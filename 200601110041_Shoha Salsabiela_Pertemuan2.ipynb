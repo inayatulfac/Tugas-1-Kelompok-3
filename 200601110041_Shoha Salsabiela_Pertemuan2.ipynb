{
 "cells": [
  {
   "cell_type": "markdown",
   "id": "6b7800b0",
   "metadata": {
    "tags": []
   },
   "source": [
    "# Algorithm 2.1 str()"
   ]
  },
  {
   "cell_type": "code",
   "execution_count": 1,
   "id": "80c83538",
   "metadata": {},
   "outputs": [],
   "source": [
    "a=12345"
   ]
  },
  {
   "cell_type": "code",
   "execution_count": 2,
   "id": "efdb20e9",
   "metadata": {},
   "outputs": [
    {
     "data": {
      "text/plain": [
       "int"
      ]
     },
     "execution_count": 2,
     "metadata": {},
     "output_type": "execute_result"
    }
   ],
   "source": [
    "type(a)"
   ]
  },
  {
   "cell_type": "code",
   "execution_count": 3,
   "id": "b4525a16",
   "metadata": {},
   "outputs": [],
   "source": [
    "b=str(a)"
   ]
  },
  {
   "cell_type": "code",
   "execution_count": 4,
   "id": "a02787e1",
   "metadata": {},
   "outputs": [
    {
     "data": {
      "text/plain": [
       "str"
      ]
     },
     "execution_count": 4,
     "metadata": {},
     "output_type": "execute_result"
    }
   ],
   "source": [
    "type(b)"
   ]
  },
  {
   "cell_type": "markdown",
   "id": "851e4aa5",
   "metadata": {},
   "source": [
    "# Algorithm 2.2 int()"
   ]
  },
  {
   "cell_type": "code",
   "execution_count": 5,
   "id": "98637b89",
   "metadata": {},
   "outputs": [],
   "source": [
    "a='12345'"
   ]
  },
  {
   "cell_type": "code",
   "execution_count": 6,
   "id": "f8d7b98f",
   "metadata": {},
   "outputs": [
    {
     "data": {
      "text/plain": [
       "str"
      ]
     },
     "execution_count": 6,
     "metadata": {},
     "output_type": "execute_result"
    }
   ],
   "source": [
    "type(a)"
   ]
  },
  {
   "cell_type": "code",
   "execution_count": 7,
   "id": "658d3c07",
   "metadata": {},
   "outputs": [],
   "source": [
    "b=int(a)"
   ]
  },
  {
   "cell_type": "code",
   "execution_count": 8,
   "id": "7be9dd6f",
   "metadata": {},
   "outputs": [
    {
     "data": {
      "text/plain": [
       "int"
      ]
     },
     "execution_count": 8,
     "metadata": {},
     "output_type": "execute_result"
    }
   ],
   "source": [
    "type(b)"
   ]
  },
  {
   "cell_type": "markdown",
   "id": "070aab4a",
   "metadata": {},
   "source": [
    "# Algorithm 2.3"
   ]
  },
  {
   "cell_type": "code",
   "execution_count": 9,
   "id": "1e32e840",
   "metadata": {},
   "outputs": [
    {
     "data": {
      "text/plain": [
       "1"
      ]
     },
     "execution_count": 9,
     "metadata": {},
     "output_type": "execute_result"
    }
   ],
   "source": [
    "int(True)"
   ]
  },
  {
   "cell_type": "code",
   "execution_count": 10,
   "id": "b7c9e6d9",
   "metadata": {},
   "outputs": [
    {
     "data": {
      "text/plain": [
       "0"
      ]
     },
     "execution_count": 10,
     "metadata": {},
     "output_type": "execute_result"
    }
   ],
   "source": [
    "int(False)"
   ]
  },
  {
   "cell_type": "code",
   "execution_count": 11,
   "id": "29b7a193",
   "metadata": {},
   "outputs": [],
   "source": [
    "a=True"
   ]
  },
  {
   "cell_type": "code",
   "execution_count": 12,
   "id": "4a85f097",
   "metadata": {},
   "outputs": [
    {
     "data": {
      "text/plain": [
       "bool"
      ]
     },
     "execution_count": 12,
     "metadata": {},
     "output_type": "execute_result"
    }
   ],
   "source": [
    "type(a)"
   ]
  },
  {
   "cell_type": "code",
   "execution_count": 13,
   "id": "76e66a7f",
   "metadata": {},
   "outputs": [
    {
     "data": {
      "text/plain": [
       "1"
      ]
     },
     "execution_count": 13,
     "metadata": {},
     "output_type": "execute_result"
    }
   ],
   "source": [
    "int(a)"
   ]
  },
  {
   "cell_type": "markdown",
   "id": "d4978dce",
   "metadata": {},
   "source": [
    "# Algorithm 2.4"
   ]
  },
  {
   "cell_type": "code",
   "execution_count": 14,
   "id": "0c975ca3",
   "metadata": {},
   "outputs": [],
   "source": [
    "a=123.456"
   ]
  },
  {
   "cell_type": "code",
   "execution_count": 15,
   "id": "5f06c8c1",
   "metadata": {},
   "outputs": [
    {
     "data": {
      "text/plain": [
       "123.456"
      ]
     },
     "execution_count": 15,
     "metadata": {},
     "output_type": "execute_result"
    }
   ],
   "source": [
    "a"
   ]
  },
  {
   "cell_type": "code",
   "execution_count": 16,
   "id": "0507fa64",
   "metadata": {},
   "outputs": [
    {
     "data": {
      "text/plain": [
       "float"
      ]
     },
     "execution_count": 16,
     "metadata": {},
     "output_type": "execute_result"
    }
   ],
   "source": [
    "type(a)"
   ]
  },
  {
   "cell_type": "code",
   "execution_count": 17,
   "id": "54e57e1e",
   "metadata": {},
   "outputs": [
    {
     "data": {
      "text/plain": [
       "246.912"
      ]
     },
     "execution_count": 17,
     "metadata": {},
     "output_type": "execute_result"
    }
   ],
   "source": [
    "a*2"
   ]
  },
  {
   "cell_type": "markdown",
   "id": "749f9981",
   "metadata": {},
   "source": [
    "# Algorithm 2.5 "
   ]
  },
  {
   "cell_type": "code",
   "execution_count": 18,
   "id": "98d64b79",
   "metadata": {},
   "outputs": [],
   "source": [
    "a=8.9e-4"
   ]
  },
  {
   "cell_type": "code",
   "execution_count": 19,
   "id": "d1bc3dc6",
   "metadata": {},
   "outputs": [
    {
     "data": {
      "text/plain": [
       "0.00089"
      ]
     },
     "execution_count": 19,
     "metadata": {},
     "output_type": "execute_result"
    }
   ],
   "source": [
    "a"
   ]
  },
  {
   "cell_type": "markdown",
   "id": "581c0f26",
   "metadata": {},
   "source": [
    "# Algorithm 2.6"
   ]
  },
  {
   "cell_type": "code",
   "execution_count": 20,
   "id": "e0913d25",
   "metadata": {},
   "outputs": [],
   "source": [
    "a=123.456"
   ]
  },
  {
   "cell_type": "code",
   "execution_count": 21,
   "id": "62f8e344",
   "metadata": {},
   "outputs": [
    {
     "data": {
      "text/plain": [
       "float"
      ]
     },
     "execution_count": 21,
     "metadata": {},
     "output_type": "execute_result"
    }
   ],
   "source": [
    "type(a)"
   ]
  },
  {
   "cell_type": "code",
   "execution_count": 23,
   "id": "459d15f2",
   "metadata": {},
   "outputs": [],
   "source": [
    "b=str(a)"
   ]
  },
  {
   "cell_type": "code",
   "execution_count": 24,
   "id": "7b471dfc",
   "metadata": {},
   "outputs": [
    {
     "data": {
      "text/plain": [
       "'123.456'"
      ]
     },
     "execution_count": 24,
     "metadata": {},
     "output_type": "execute_result"
    }
   ],
   "source": [
    "b"
   ]
  },
  {
   "cell_type": "code",
   "execution_count": 25,
   "id": "415ac929",
   "metadata": {},
   "outputs": [
    {
     "data": {
      "text/plain": [
       "str"
      ]
     },
     "execution_count": 25,
     "metadata": {},
     "output_type": "execute_result"
    }
   ],
   "source": [
    "type(b)"
   ]
  },
  {
   "cell_type": "code",
   "execution_count": 26,
   "id": "fdc50397",
   "metadata": {},
   "outputs": [],
   "source": [
    "c=float(b)"
   ]
  },
  {
   "cell_type": "code",
   "execution_count": 27,
   "id": "ca2ce90e",
   "metadata": {},
   "outputs": [
    {
     "data": {
      "text/plain": [
       "123.456"
      ]
     },
     "execution_count": 27,
     "metadata": {},
     "output_type": "execute_result"
    }
   ],
   "source": [
    "c"
   ]
  },
  {
   "cell_type": "code",
   "execution_count": 28,
   "id": "c439c1c9",
   "metadata": {},
   "outputs": [
    {
     "data": {
      "text/plain": [
       "float"
      ]
     },
     "execution_count": 28,
     "metadata": {},
     "output_type": "execute_result"
    }
   ],
   "source": [
    "type(c)"
   ]
  },
  {
   "cell_type": "markdown",
   "id": "c22aeb9b",
   "metadata": {},
   "source": [
    "# Algorithm 2.7"
   ]
  },
  {
   "cell_type": "code",
   "execution_count": 29,
   "id": "673fca27",
   "metadata": {},
   "outputs": [],
   "source": [
    "a=-9+17j"
   ]
  },
  {
   "cell_type": "code",
   "execution_count": 30,
   "id": "a733f5ea",
   "metadata": {},
   "outputs": [
    {
     "data": {
      "text/plain": [
       "complex"
      ]
     },
     "execution_count": 30,
     "metadata": {},
     "output_type": "execute_result"
    }
   ],
   "source": [
    "type(a)"
   ]
  },
  {
   "cell_type": "code",
   "execution_count": 31,
   "id": "fd326773",
   "metadata": {},
   "outputs": [
    {
     "data": {
      "text/plain": [
       "17.0"
      ]
     },
     "execution_count": 31,
     "metadata": {},
     "output_type": "execute_result"
    }
   ],
   "source": [
    "a.imag"
   ]
  },
  {
   "cell_type": "markdown",
   "id": "d5ae6c31",
   "metadata": {},
   "source": [
    "# Algorithm 2.8"
   ]
  },
  {
   "cell_type": "code",
   "execution_count": 32,
   "id": "10dd6c4e",
   "metadata": {},
   "outputs": [],
   "source": [
    "s1='PyQt'"
   ]
  },
  {
   "cell_type": "code",
   "execution_count": 33,
   "id": "7f0c8cdd",
   "metadata": {},
   "outputs": [
    {
     "data": {
      "text/plain": [
       "'PyQt'"
      ]
     },
     "execution_count": 33,
     "metadata": {},
     "output_type": "execute_result"
    }
   ],
   "source": [
    "s1"
   ]
  },
  {
   "cell_type": "code",
   "execution_count": 34,
   "id": "e6fa0224",
   "metadata": {},
   "outputs": [],
   "source": [
    "s2='Python'"
   ]
  },
  {
   "cell_type": "code",
   "execution_count": 35,
   "id": "6806bcf4",
   "metadata": {},
   "outputs": [
    {
     "data": {
      "text/plain": [
       "'Python'"
      ]
     },
     "execution_count": 35,
     "metadata": {},
     "output_type": "execute_result"
    }
   ],
   "source": [
    "s2"
   ]
  },
  {
   "cell_type": "code",
   "execution_count": 36,
   "id": "ebce3d31",
   "metadata": {},
   "outputs": [],
   "source": [
    "s3='''Pemograman GUI dengan Python dan PyQt'''"
   ]
  },
  {
   "cell_type": "code",
   "execution_count": 40,
   "id": "4e3c485e",
   "metadata": {
    "scrolled": true
   },
   "outputs": [],
   "source": [
    "s3='\\nPemograman GUI\\ndengan Python dan PyQt\\n'"
   ]
  },
  {
   "cell_type": "code",
   "execution_count": 41,
   "id": "fa3a2b81",
   "metadata": {},
   "outputs": [],
   "source": [
    "s4=\"\"\"Pemograman GUI dengan Python dan PyQt\"\"\""
   ]
  },
  {
   "cell_type": "code",
   "execution_count": 42,
   "id": "8f01b542",
   "metadata": {},
   "outputs": [
    {
     "data": {
      "text/plain": [
       "'Pemograman GUI dengan Python dan PyQt'"
      ]
     },
     "execution_count": 42,
     "metadata": {},
     "output_type": "execute_result"
    }
   ],
   "source": [
    "s4"
   ]
  },
  {
   "cell_type": "code",
   "execution_count": 43,
   "id": "48ca85ad",
   "metadata": {},
   "outputs": [],
   "source": [
    "b='python'"
   ]
  },
  {
   "cell_type": "code",
   "execution_count": 44,
   "id": "566f78b4",
   "metadata": {},
   "outputs": [
    {
     "data": {
      "text/plain": [
       "'python'"
      ]
     },
     "execution_count": 44,
     "metadata": {},
     "output_type": "execute_result"
    }
   ],
   "source": [
    "b"
   ]
  },
  {
   "cell_type": "code",
   "execution_count": 45,
   "id": "b3bb4fc4",
   "metadata": {},
   "outputs": [],
   "source": [
    "b=b.capitalize()"
   ]
  },
  {
   "cell_type": "code",
   "execution_count": 46,
   "id": "cec02261",
   "metadata": {},
   "outputs": [
    {
     "data": {
      "text/plain": [
       "'Python'"
      ]
     },
     "execution_count": 46,
     "metadata": {},
     "output_type": "execute_result"
    }
   ],
   "source": [
    "b"
   ]
  },
  {
   "cell_type": "code",
   "execution_count": 47,
   "id": "9c37763e",
   "metadata": {},
   "outputs": [],
   "source": [
    "b=b.upper()"
   ]
  },
  {
   "cell_type": "code",
   "execution_count": 48,
   "id": "b36952fe",
   "metadata": {},
   "outputs": [
    {
     "data": {
      "text/plain": [
       "'PYTHON'"
      ]
     },
     "execution_count": 48,
     "metadata": {},
     "output_type": "execute_result"
    }
   ],
   "source": [
    "b"
   ]
  },
  {
   "cell_type": "code",
   "execution_count": 49,
   "id": "1460b1a7",
   "metadata": {},
   "outputs": [],
   "source": [
    "b=b.lower()"
   ]
  },
  {
   "cell_type": "code",
   "execution_count": 50,
   "id": "674d0f6f",
   "metadata": {},
   "outputs": [
    {
     "data": {
      "text/plain": [
       "'python'"
      ]
     },
     "execution_count": 50,
     "metadata": {},
     "output_type": "execute_result"
    }
   ],
   "source": [
    "b"
   ]
  },
  {
   "cell_type": "code",
   "execution_count": 51,
   "id": "1c1f3ec1",
   "metadata": {},
   "outputs": [
    {
     "data": {
      "text/plain": [
       "False"
      ]
     },
     "execution_count": 51,
     "metadata": {},
     "output_type": "execute_result"
    }
   ],
   "source": [
    "b.isupper()"
   ]
  },
  {
   "cell_type": "code",
   "execution_count": 52,
   "id": "154d85d9",
   "metadata": {},
   "outputs": [
    {
     "data": {
      "text/plain": [
       "True"
      ]
     },
     "execution_count": 52,
     "metadata": {},
     "output_type": "execute_result"
    }
   ],
   "source": [
    "b.islower()"
   ]
  },
  {
   "cell_type": "code",
   "execution_count": 53,
   "id": "55a5c4b1",
   "metadata": {},
   "outputs": [],
   "source": [
    "s=' '.join(['saya','makan','ayam'])"
   ]
  },
  {
   "cell_type": "code",
   "execution_count": 54,
   "id": "d84cb2e7",
   "metadata": {},
   "outputs": [
    {
     "data": {
      "text/plain": [
       "'saya makan ayam'"
      ]
     },
     "execution_count": 54,
     "metadata": {},
     "output_type": "execute_result"
    }
   ],
   "source": [
    "s"
   ]
  },
  {
   "cell_type": "code",
   "execution_count": 55,
   "id": "1be4704a",
   "metadata": {},
   "outputs": [],
   "source": [
    "nim='16610021'"
   ]
  },
  {
   "cell_type": "code",
   "execution_count": 56,
   "id": "77688f28",
   "metadata": {},
   "outputs": [
    {
     "data": {
      "text/plain": [
       "True"
      ]
     },
     "execution_count": 56,
     "metadata": {},
     "output_type": "execute_result"
    }
   ],
   "source": [
    "nim.isnumeric()"
   ]
  },
  {
   "cell_type": "code",
   "execution_count": 57,
   "id": "3ea0a421",
   "metadata": {},
   "outputs": [],
   "source": [
    "nim='16610o21'"
   ]
  },
  {
   "cell_type": "code",
   "execution_count": 58,
   "id": "1e9501b8",
   "metadata": {},
   "outputs": [
    {
     "data": {
      "text/plain": [
       "False"
      ]
     },
     "execution_count": 58,
     "metadata": {},
     "output_type": "execute_result"
    }
   ],
   "source": [
    "nim.isnumeric()"
   ]
  }
 ],
 "metadata": {
  "kernelspec": {
   "display_name": "Python 3 (ipykernel)",
   "language": "python",
   "name": "python3"
  },
  "language_info": {
   "codemirror_mode": {
    "name": "ipython",
    "version": 3
   },
   "file_extension": ".py",
   "mimetype": "text/x-python",
   "name": "python",
   "nbconvert_exporter": "python",
   "pygments_lexer": "ipython3",
   "version": "3.10.2"
  }
 },
 "nbformat": 4,
 "nbformat_minor": 5
}
