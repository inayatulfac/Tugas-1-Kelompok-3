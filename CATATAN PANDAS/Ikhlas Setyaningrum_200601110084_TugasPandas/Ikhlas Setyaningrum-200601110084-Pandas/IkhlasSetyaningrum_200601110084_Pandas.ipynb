{
 "cells": [
  {
   "cell_type": "markdown",
   "id": "284aa0e0-8b26-4839-83a7-1b03b5352d31",
   "metadata": {},
   "source": [
    "Pandas merupakan salah satu package yang sangat membantu kita dalam pengolahan data dengan bahasa python. Hal ini karena pada menyediakan fitur dataframe. Dengan dataframe, kita bisa menjadikan file terbaca menjadi sebuah tabel. File yang didukung seperti .txt, .csv, .tsv dan lainnya"
   ]
  },
  {
   "cell_type": "markdown",
   "id": "aaaf7868-4c41-44db-8d0a-aafa94ffd9f0",
   "metadata": {},
   "source": [
    "**Mengimpor Pandas**"
   ]
  },
  {
   "cell_type": "code",
   "execution_count": 1,
   "id": "e40a1f06-356a-4581-a7a4-cc2ef3c6abc9",
   "metadata": {},
   "outputs": [],
   "source": [
    "import pandas as pd"
   ]
  },
  {
   "cell_type": "markdown",
   "id": "56e7c670-3ff2-433c-8b78-4b6ecac6c889",
   "metadata": {},
   "source": [
    "**Import .txt**"
   ]
  },
  {
   "cell_type": "markdown",
   "id": "990892fb-8814-4149-9361-962d4b9d1333",
   "metadata": {},
   "source": [
    "siapkan dahulu file txt (dengan jarak antar data misal menggunakan tab) di folder yang sama dengan program"
   ]
  },
  {
   "cell_type": "code",
   "execution_count": 2,
   "id": "1b62c74d-e167-4078-882c-560102de9a80",
   "metadata": {},
   "outputs": [
    {
     "name": "stdout",
     "output_type": "stream",
     "text": [
      "   A\\tB\n",
      "0  1\\t2\n",
      "1  4\\t3\n",
      "2  4\\t2\n"
     ]
    }
   ],
   "source": [
    "data1=pd.read_csv(\"data.txt\")\n",
    "print(data1)"
   ]
  },
  {
   "cell_type": "code",
   "execution_count": 3,
   "id": "374d4f9e-ee6b-4f45-9aa6-eb4405ed2f09",
   "metadata": {},
   "outputs": [
    {
     "name": "stdout",
     "output_type": "stream",
     "text": [
      "   A  B\n",
      "0  1  2\n",
      "1  4  3\n",
      "2  4  2\n"
     ]
    }
   ],
   "source": [
    "data2=pd.read_csv(\"data.txt\", delimiter=\"\\t\")\n",
    "print(data2)"
   ]
  },
  {
   "cell_type": "markdown",
   "id": "1d50d3d0-4a3c-479f-8552-c4c77e3254b6",
   "metadata": {},
   "source": [
    "**Import .csv**"
   ]
  },
  {
   "cell_type": "markdown",
   "id": "4ae1d1f1-de65-4ee5-b8c2-2a3becae287c",
   "metadata": {},
   "source": [
    "siapkan dahulu file csv di folder yang sama dengan program"
   ]
  },
  {
   "cell_type": "code",
   "execution_count": 4,
   "id": "2f21fe5d-1fcb-4dd5-848f-fc0fe32f034f",
   "metadata": {},
   "outputs": [
    {
     "name": "stdout",
     "output_type": "stream",
     "text": [
      "   A\\tB\n",
      "0  1\\t2\n",
      "1  4\\t3\n",
      "2  4\\t2\n"
     ]
    }
   ],
   "source": [
    "data3=pd.read_csv(\"data.txt\")\n",
    "print(data3)"
   ]
  },
  {
   "cell_type": "code",
   "execution_count": 5,
   "id": "bbc5d7dd-4978-44a5-bbee-3f00a6c25639",
   "metadata": {},
   "outputs": [
    {
     "name": "stdout",
     "output_type": "stream",
     "text": [
      "   A  B\n",
      "0  1  2\n",
      "1  4  3\n",
      "2  4  2\n"
     ]
    }
   ],
   "source": [
    "data4=pd.read_csv(\"data.txt\", delimiter=\"\\s+\")\n",
    "print(data4)"
   ]
  },
  {
   "cell_type": "markdown",
   "id": "06e448bb-bf3e-41d9-9cb2-ae7cb24bb11d",
   "metadata": {},
   "source": [
    "**Import .xlsx**"
   ]
  },
  {
   "cell_type": "markdown",
   "id": "63368e82-bcd7-4a69-8132-861731ceeeda",
   "metadata": {},
   "source": [
    "siapkan dahulu file xlsx di folder yang sama dengan program"
   ]
  },
  {
   "cell_type": "code",
   "execution_count": 6,
   "id": "41499e8b-b688-4b54-b757-ea2f98700d5d",
   "metadata": {},
   "outputs": [
    {
     "name": "stdout",
     "output_type": "stream",
     "text": [
      "   A  B\n",
      "0  1  2\n",
      "1  4  3\n",
      "2  4  2\n"
     ]
    }
   ],
   "source": [
    "data5=pd.read_excel('data.xlsx')\n",
    "print(data5)"
   ]
  },
  {
   "cell_type": "markdown",
   "id": "65b3d4f5-6f23-465f-9474-7cfe36b082dd",
   "metadata": {},
   "source": [
    "**Import .xls**"
   ]
  },
  {
   "cell_type": "markdown",
   "id": "ebdf47c4-10f7-4f6f-bde3-c7321405fde6",
   "metadata": {},
   "source": [
    "siapkan dahulu file xls di folder yang sama dengan program"
   ]
  },
  {
   "cell_type": "code",
   "execution_count": 7,
   "id": "761a0563-16b7-46de-9fc6-6955e40a5739",
   "metadata": {},
   "outputs": [
    {
     "name": "stdout",
     "output_type": "stream",
     "text": [
      "   A  B\n",
      "0  1  2\n",
      "1  4  3\n",
      "2  4  2\n"
     ]
    }
   ],
   "source": [
    "data6=pd.read_excel('data.xls')\n",
    "print(data6)"
   ]
  },
  {
   "cell_type": "markdown",
   "id": "f7619ad7-a2bf-4b0a-b32d-06e1a47280b3",
   "metadata": {},
   "source": [
    "**Melihat Tabel**"
   ]
  },
  {
   "cell_type": "code",
   "execution_count": 8,
   "id": "47d6e737-ee62-4e16-b897-0ebb5e03736a",
   "metadata": {},
   "outputs": [
    {
     "data": {
      "text/html": [
       "<div>\n",
       "<style scoped>\n",
       "    .dataframe tbody tr th:only-of-type {\n",
       "        vertical-align: middle;\n",
       "    }\n",
       "\n",
       "    .dataframe tbody tr th {\n",
       "        vertical-align: top;\n",
       "    }\n",
       "\n",
       "    .dataframe thead th {\n",
       "        text-align: right;\n",
       "    }\n",
       "</style>\n",
       "<table border=\"1\" class=\"dataframe\">\n",
       "  <thead>\n",
       "    <tr style=\"text-align: right;\">\n",
       "      <th></th>\n",
       "      <th>A</th>\n",
       "      <th>B</th>\n",
       "    </tr>\n",
       "  </thead>\n",
       "  <tbody>\n",
       "    <tr>\n",
       "      <th>0</th>\n",
       "      <td>1</td>\n",
       "      <td>2</td>\n",
       "    </tr>\n",
       "    <tr>\n",
       "      <th>1</th>\n",
       "      <td>4</td>\n",
       "      <td>3</td>\n",
       "    </tr>\n",
       "    <tr>\n",
       "      <th>2</th>\n",
       "      <td>4</td>\n",
       "      <td>2</td>\n",
       "    </tr>\n",
       "  </tbody>\n",
       "</table>\n",
       "</div>"
      ],
      "text/plain": [
       "   A  B\n",
       "0  1  2\n",
       "1  4  3\n",
       "2  4  2"
      ]
     },
     "execution_count": 8,
     "metadata": {},
     "output_type": "execute_result"
    }
   ],
   "source": [
    "#semua\n",
    "data2"
   ]
  },
  {
   "cell_type": "code",
   "execution_count": 9,
   "id": "e6b8cb17-6d21-4b2d-aed2-b60fd35671c7",
   "metadata": {},
   "outputs": [
    {
     "data": {
      "text/html": [
       "<div>\n",
       "<style scoped>\n",
       "    .dataframe tbody tr th:only-of-type {\n",
       "        vertical-align: middle;\n",
       "    }\n",
       "\n",
       "    .dataframe tbody tr th {\n",
       "        vertical-align: top;\n",
       "    }\n",
       "\n",
       "    .dataframe thead th {\n",
       "        text-align: right;\n",
       "    }\n",
       "</style>\n",
       "<table border=\"1\" class=\"dataframe\">\n",
       "  <thead>\n",
       "    <tr style=\"text-align: right;\">\n",
       "      <th></th>\n",
       "      <th>A</th>\n",
       "      <th>B</th>\n",
       "    </tr>\n",
       "  </thead>\n",
       "  <tbody>\n",
       "    <tr>\n",
       "      <th>0</th>\n",
       "      <td>1</td>\n",
       "      <td>2</td>\n",
       "    </tr>\n",
       "    <tr>\n",
       "      <th>1</th>\n",
       "      <td>4</td>\n",
       "      <td>3</td>\n",
       "    </tr>\n",
       "    <tr>\n",
       "      <th>2</th>\n",
       "      <td>4</td>\n",
       "      <td>2</td>\n",
       "    </tr>\n",
       "  </tbody>\n",
       "</table>\n",
       "</div>"
      ],
      "text/plain": [
       "   A  B\n",
       "0  1  2\n",
       "1  4  3\n",
       "2  4  2"
      ]
     },
     "execution_count": 9,
     "metadata": {},
     "output_type": "execute_result"
    }
   ],
   "source": [
    "#sebagian yang diatas (karena datanya sedikit maka yang tampil semua, silahkan coba dengan data yang lebih banyak lagi sendiri)\n",
    "data2.head()"
   ]
  },
  {
   "cell_type": "markdown",
   "id": "e3e69e63-1fb3-40e2-a4f8-a63514f511e6",
   "metadata": {},
   "source": [
    "**Membuat Dataframe sendiri**"
   ]
  },
  {
   "cell_type": "code",
   "execution_count": 10,
   "id": "45b101c9-117f-4ee3-b2c3-4bd067e96379",
   "metadata": {},
   "outputs": [
    {
     "name": "stdout",
     "output_type": "stream",
     "text": [
      "Empty DataFrame\n",
      "Columns: []\n",
      "Index: []\n"
     ]
    }
   ],
   "source": [
    "df = pd.DataFrame()\n",
    "print(df)"
   ]
  },
  {
   "cell_type": "code",
   "execution_count": 11,
   "id": "d09ac34e-437a-4fae-8d12-da4d3dcf7da7",
   "metadata": {},
   "outputs": [
    {
     "name": "stdout",
     "output_type": "stream",
     "text": [
      "    0\n",
      "0   2\n",
      "1   4\n",
      "2   6\n",
      "3   8\n",
      "4  10\n"
     ]
    }
   ],
   "source": [
    "data = [2,4,6,8,10]\n",
    "df1 = pd.DataFrame(data)\n",
    "print(df1)"
   ]
  },
  {
   "cell_type": "code",
   "execution_count": 12,
   "id": "ee5e397e-fc47-4ab3-ba78-d3a642236e80",
   "metadata": {},
   "outputs": [
    {
     "name": "stdout",
     "output_type": "stream",
     "text": [
      "                     Nama  Usia\n",
      "0  Sephia Alifhatun Nisya    18\n",
      "1            Yashinta Eka    19\n",
      "2           Ajeng Audisia    20\n"
     ]
    }
   ],
   "source": [
    "data = [['Sephia Alifhatun Nisya',18],['Yashinta Eka',19],['Ajeng Audisia',20]]\n",
    "df2 = pd.DataFrame(data,columns=['Nama','Usia'])\n",
    "print(df2)"
   ]
  },
  {
   "cell_type": "code",
   "execution_count": null,
   "id": "fecc96dc-ffa4-499f-b10f-259b3e018ff2",
   "metadata": {},
   "outputs": [],
   "source": []
  }
 ],
 "metadata": {
  "kernelspec": {
   "display_name": "Python 3 (ipykernel)",
   "language": "python",
   "name": "python3"
  },
  "language_info": {
   "codemirror_mode": {
    "name": "ipython",
    "version": 3
   },
   "file_extension": ".py",
   "mimetype": "text/x-python",
   "name": "python",
   "nbconvert_exporter": "python",
   "pygments_lexer": "ipython3",
   "version": "3.10.2"
  }
 },
 "nbformat": 4,
 "nbformat_minor": 5
}
