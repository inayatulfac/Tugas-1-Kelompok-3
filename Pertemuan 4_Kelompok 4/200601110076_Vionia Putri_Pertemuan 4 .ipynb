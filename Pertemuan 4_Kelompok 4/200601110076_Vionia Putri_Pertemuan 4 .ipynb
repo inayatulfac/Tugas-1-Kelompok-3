{
 "cells": [
  {
   "cell_type": "markdown",
   "id": "af161aa8-8d8b-4e38-a0d1-40bf06382817",
   "metadata": {},
   "source": [
    "Percobaan Conditional If"
   ]
  },
  {
   "cell_type": "code",
   "execution_count": 4,
   "id": "f2778378-7ac7-44a9-8ade-4b0530da9049",
   "metadata": {},
   "outputs": [
    {
     "name": "stdin",
     "output_type": "stream",
     "text": [
      "Masukkan nilai anda 90\n"
     ]
    },
    {
     "name": "stdout",
     "output_type": "stream",
     "text": [
      "Anda Lulus ujian!\n"
     ]
    }
   ],
   "source": [
    "nilai = input(\"Masukkan nilai anda\")\n",
    "if int(nilai) >= 70:\n",
    "    print(\"Anda Lulus ujian!\")\n",
    "else:\n",
    "    print(\"Anda belum lulus ujian!\")"
   ]
  },
  {
   "cell_type": "code",
   "execution_count": 10,
   "id": "2e227054-cb39-43a7-af7b-142b903a66f4",
   "metadata": {},
   "outputs": [
    {
     "name": "stdin",
     "output_type": "stream",
     "text": [
      "Masukkan nilai anda 100\n"
     ]
    },
    {
     "name": "stdout",
     "output_type": "stream",
     "text": [
      "Anda Lulus Ujian! SELAMAT!\n"
     ]
    }
   ],
   "source": [
    "nilai = input(\"Masukkan nilai anda\")\n",
    "if int(nilai) < 0 or int(nilai) > 100:\n",
    "    print (\"Nilai Anda TIDAK valid\")\n",
    "elif int(nilai) >= 70:\n",
    "    print (\"Anda Lulus Ujian! SELAMAT!\")\n",
    "else:\n",
    "    print (\"Anda belum lulus ujian!\")"
   ]
  },
  {
   "cell_type": "code",
   "execution_count": 11,
   "id": "d78a25b4-81de-4e5c-87f2-7a7ae7dd7153",
   "metadata": {},
   "outputs": [
    {
     "name": "stdout",
     "output_type": "stream",
     "text": [
      "1\n",
      "2\n",
      "3\n",
      "4\n",
      "5\n",
      "6\n",
      "7\n",
      "8\n",
      "9\n",
      "10\n"
     ]
    }
   ],
   "source": [
    "# Contoh perulangan dengan while untuk mencetak angka dari [0-4]\n",
    "count = 1         # inisialisasi variabel iterator\n",
    "while count < 11: # kondisi perulangan\n",
    "    print(count)\n",
    "    count += 1    # update iterator, untuk mencegah infinite loop"
   ]
  },
  {
   "cell_type": "code",
   "execution_count": 15,
   "id": "6e04c8e0-c234-49ea-b383-5ba175a6f040",
   "metadata": {},
   "outputs": [
    {
     "name": "stdin",
     "output_type": "stream",
     "text": [
      "Masukkan nilai n:  5\n"
     ]
    },
    {
     "name": "stdout",
     "output_type": "stream",
     "text": [
      "120\n"
     ]
    }
   ],
   "source": [
    "# Program untuk menghitung nilai faktorial n\n",
    "n = int(input(\"Masukkan nilai n: \"))\n",
    "faktorial = 1        # variabel untuk menyimpan hasil faktorial\n",
    "i = 1                # inisialisasi variabel iterator\n",
    "while i<=n:\n",
    "    faktorial *= i\n",
    "    i += 1           # update iterator\n",
    "print(faktorial)"
   ]
  },
  {
   "cell_type": "code",
   "execution_count": 16,
   "id": "7af1b94d-bb62-48df-9bfe-abbd6d8bf9f2",
   "metadata": {},
   "outputs": [
    {
     "name": "stdout",
     "output_type": "stream",
     "text": [
      "Angka = 0\n"
     ]
    },
    {
     "name": "stdin",
     "output_type": "stream",
     "text": [
      "Masukkan Angka:  40\n"
     ]
    },
    {
     "name": "stdout",
     "output_type": "stream",
     "text": [
      "Angka = 40\n"
     ]
    },
    {
     "name": "stdin",
     "output_type": "stream",
     "text": [
      "Masukkan Angka:  10\n"
     ]
    },
    {
     "name": "stdout",
     "output_type": "stream",
     "text": [
      "Angka = 50\n"
     ]
    },
    {
     "name": "stdin",
     "output_type": "stream",
     "text": [
      "Masukkan Angka:  1\n"
     ]
    },
    {
     "name": "stdout",
     "output_type": "stream",
     "text": [
      "Angka berhenti pada jumlah: 51\n"
     ]
    }
   ],
   "source": [
    "# Perulangan dengan break\n",
    "b = 0\n",
    "while True:\n",
    "    print(\"Angka = \"+str(b))\n",
    "    angka = int(input(\"Masukkan Angka: \"))\n",
    "    b += angka\n",
    "    if b>50:\n",
    "        break\n",
    "print(\"Angka berhenti pada jumlah: \"+str(b))"
   ]
  },
  {
   "cell_type": "code",
   "execution_count": 17,
   "id": "48dbd535-87a3-4ccb-9b76-c38c2ac26326",
   "metadata": {},
   "outputs": [
    {
     "name": "stdout",
     "output_type": "stream",
     "text": [
      "2\n",
      "3\n",
      "5\n",
      "7\n",
      "m\n",
      "a\n",
      "t\n",
      "e\n",
      "m\n",
      "a\n",
      "t\n",
      "i\n",
      "k\n",
      "a\n"
     ]
    }
   ],
   "source": [
    "# Perulangan dengan for\n",
    "primes = [2,3,5,7]\n",
    "for prime in primes:\n",
    "    print(prime)\n",
    "    \n",
    "s = 'matematika'\n",
    "for i in s:\n",
    "    print(i)"
   ]
  },
  {
   "cell_type": "code",
   "execution_count": 18,
   "id": "1bc1cfd9-84b8-467c-a6f0-155d6e07e687",
   "metadata": {},
   "outputs": [
    {
     "name": "stdout",
     "output_type": "stream",
     "text": [
      "1\n",
      "3\n",
      "5\n",
      "7\n",
      "9\n"
     ]
    }
   ],
   "source": [
    "for i in range(1,10,2):\n",
    "    print(i)"
   ]
  },
  {
   "cell_type": "code",
   "execution_count": 19,
   "id": "5ed405e6-c79a-47a0-84ce-05f4e53f09eb",
   "metadata": {},
   "outputs": [
    {
     "name": "stdin",
     "output_type": "stream",
     "text": [
      "Masukkan nilai n:  5\n"
     ]
    },
    {
     "name": "stdout",
     "output_type": "stream",
     "text": [
      "120\n"
     ]
    }
   ],
   "source": [
    "# Program untuk menghitung nilai faktorial n\n",
    "n = int(input(\"Masukkan nilai n: \"))\n",
    "faktorial = 1\n",
    "for i in range(1,n+1):\n",
    "    faktorial *= i\n",
    "print(faktorial)"
   ]
  },
  {
   "cell_type": "code",
   "execution_count": 20,
   "id": "3fa66165-2c2e-4969-8610-518acabca254",
   "metadata": {},
   "outputs": [
    {
     "name": "stdout",
     "output_type": "stream",
     "text": [
      "0\n",
      "1\n",
      "2\n",
      "3\n",
      "4\n",
      "5\n",
      "6\n",
      "7\n",
      "8\n",
      "9\n"
     ]
    }
   ],
   "source": [
    "for i in range(100):\n",
    "    if i==10:\n",
    "        break\n",
    "    print(i)"
   ]
  },
  {
   "cell_type": "code",
   "execution_count": 21,
   "id": "8b14d1a8-ae99-4982-af9f-3e84c0ebc410",
   "metadata": {},
   "outputs": [
    {
     "name": "stdin",
     "output_type": "stream",
     "text": [
      "Masukkan nilai n:  5\n"
     ]
    },
    {
     "name": "stdout",
     "output_type": "stream",
     "text": [
      "20\n"
     ]
    }
   ],
   "source": [
    "n = int(input(\"Masukkan nilai n: \"))\n",
    "sum_even = 0\n",
    "for i in range(0,2*n,2):\n",
    "    sum_even += i\n",
    "print(sum_even)"
   ]
  },
  {
   "cell_type": "code",
   "execution_count": null,
   "id": "ee852e40-8bf8-4d55-baff-71f92235fa4b",
   "metadata": {},
   "outputs": [],
   "source": []
  }
 ],
 "metadata": {
  "kernelspec": {
   "display_name": "Python 3 (ipykernel)",
   "language": "python",
   "name": "python3"
  },
  "language_info": {
   "codemirror_mode": {
    "name": "ipython",
    "version": 3
   },
   "file_extension": ".py",
   "mimetype": "text/x-python",
   "name": "python",
   "nbconvert_exporter": "python",
   "pygments_lexer": "ipython3",
   "version": "3.10.2"
  }
 },
 "nbformat": 4,
 "nbformat_minor": 5
}
