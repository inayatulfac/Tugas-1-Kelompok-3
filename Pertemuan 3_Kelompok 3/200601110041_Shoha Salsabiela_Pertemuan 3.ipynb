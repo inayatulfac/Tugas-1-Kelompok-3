{
 "cells": [
  {
   "cell_type": "markdown",
   "id": "b753a5ad",
   "metadata": {},
   "source": [
    "# Algorithm 3.1"
   ]
  },
  {
   "cell_type": "code",
   "execution_count": 1,
   "id": "c87de51e",
   "metadata": {},
   "outputs": [],
   "source": [
    "list1=[100,200,300,400]"
   ]
  },
  {
   "cell_type": "code",
   "execution_count": 2,
   "id": "a2583d38",
   "metadata": {},
   "outputs": [],
   "source": [
    "list2=[1,'Pemograman Komputer',12000.00]"
   ]
  },
  {
   "cell_type": "code",
   "execution_count": 3,
   "id": "0a8bbe57",
   "metadata": {},
   "outputs": [],
   "source": [
    "list=[10,8,12,6,15]"
   ]
  },
  {
   "cell_type": "code",
   "execution_count": 4,
   "id": "16ff2def",
   "metadata": {},
   "outputs": [
    {
     "data": {
      "text/plain": [
       "[10, 8, 12, 6, 15]"
      ]
     },
     "execution_count": 4,
     "metadata": {},
     "output_type": "execute_result"
    }
   ],
   "source": [
    "list"
   ]
  },
  {
   "cell_type": "code",
   "execution_count": 5,
   "id": "edee64b6",
   "metadata": {},
   "outputs": [
    {
     "data": {
      "text/plain": [
       "5"
      ]
     },
     "execution_count": 5,
     "metadata": {},
     "output_type": "execute_result"
    }
   ],
   "source": [
    "len(list)#Menghitung banyaknya elemen didalam list 5"
   ]
  },
  {
   "cell_type": "code",
   "execution_count": 6,
   "id": "cd71093a",
   "metadata": {},
   "outputs": [],
   "source": [
    "li=[10,8,12,6,15]"
   ]
  },
  {
   "cell_type": "code",
   "execution_count": 7,
   "id": "cf7cdd3c",
   "metadata": {},
   "outputs": [
    {
     "data": {
      "text/plain": [
       "[10, 8, 12, 6, 15]"
      ]
     },
     "execution_count": 7,
     "metadata": {},
     "output_type": "execute_result"
    }
   ],
   "source": [
    "li"
   ]
  },
  {
   "cell_type": "code",
   "execution_count": 8,
   "id": "d1a3ac49",
   "metadata": {},
   "outputs": [
    {
     "data": {
      "text/plain": [
       "(10, 8, 12, 6, 15)"
      ]
     },
     "execution_count": 8,
     "metadata": {},
     "output_type": "execute_result"
    }
   ],
   "source": [
    "li[0],li[1],li[2],li[3],li[4]"
   ]
  },
  {
   "cell_type": "code",
   "execution_count": 9,
   "id": "af9c0d88",
   "metadata": {},
   "outputs": [
    {
     "data": {
      "text/plain": [
       "(10, 8, 12, 6, 15)"
      ]
     },
     "execution_count": 9,
     "metadata": {},
     "output_type": "execute_result"
    }
   ],
   "source": [
    "li[-5],li[-4],li[-3],li[-2],li[-1]"
   ]
  },
  {
   "cell_type": "code",
   "execution_count": 10,
   "id": "3d7448b5",
   "metadata": {},
   "outputs": [],
   "source": [
    "li.append(20)#menambahkan elemen dalam list"
   ]
  },
  {
   "cell_type": "code",
   "execution_count": null,
   "id": "2b546960",
   "metadata": {},
   "outputs": [],
   "source": [
    "li.append(25)"
   ]
  },
  {
   "cell_type": "code",
   "execution_count": 13,
   "id": "ea44b308",
   "metadata": {},
   "outputs": [],
   "source": [
    "li=[10,8,12,6,15,20,25]"
   ]
  },
  {
   "cell_type": "code",
   "execution_count": 14,
   "id": "3bfe20a3",
   "metadata": {},
   "outputs": [],
   "source": [
    "li.extend([100,200,300])#menambahkan list dalam sebuah list"
   ]
  },
  {
   "cell_type": "code",
   "execution_count": 15,
   "id": "ad42c315",
   "metadata": {},
   "outputs": [
    {
     "data": {
      "text/plain": [
       "[10, 8, 12, 6, 15, 20, 25, 100, 200, 300]"
      ]
     },
     "execution_count": 15,
     "metadata": {},
     "output_type": "execute_result"
    }
   ],
   "source": [
    "li"
   ]
  },
  {
   "cell_type": "code",
   "execution_count": 16,
   "id": "0be675cb",
   "metadata": {},
   "outputs": [],
   "source": [
    "li[0]=99"
   ]
  },
  {
   "cell_type": "code",
   "execution_count": 17,
   "id": "935309a4",
   "metadata": {},
   "outputs": [],
   "source": [
    "li[1]=77"
   ]
  },
  {
   "cell_type": "code",
   "execution_count": 18,
   "id": "dfb91008",
   "metadata": {},
   "outputs": [
    {
     "data": {
      "text/plain": [
       "[99, 77, 12, 6, 15, 20, 25, 100, 200, 300]"
      ]
     },
     "execution_count": 18,
     "metadata": {},
     "output_type": "execute_result"
    }
   ],
   "source": [
    "li"
   ]
  },
  {
   "cell_type": "code",
   "execution_count": 19,
   "id": "5d6e11ed",
   "metadata": {},
   "outputs": [],
   "source": [
    "li.remove(99)#menghapus elemen di dalam list"
   ]
  },
  {
   "cell_type": "code",
   "execution_count": 20,
   "id": "057f6166",
   "metadata": {},
   "outputs": [],
   "source": [
    "li.remove(300)"
   ]
  },
  {
   "cell_type": "code",
   "execution_count": 21,
   "id": "0750ea06",
   "metadata": {},
   "outputs": [],
   "source": [
    "li.remove(15)"
   ]
  },
  {
   "cell_type": "code",
   "execution_count": 22,
   "id": "c78820cc",
   "metadata": {},
   "outputs": [
    {
     "data": {
      "text/plain": [
       "[77, 12, 6, 20, 25, 100, 200]"
      ]
     },
     "execution_count": 22,
     "metadata": {},
     "output_type": "execute_result"
    }
   ],
   "source": [
    "li"
   ]
  },
  {
   "cell_type": "code",
   "execution_count": 23,
   "id": "9a909fa4",
   "metadata": {},
   "outputs": [],
   "source": [
    "li.clear()#Menghapus Semua elemen didalam list"
   ]
  },
  {
   "cell_type": "code",
   "execution_count": 24,
   "id": "8cc8f7f7",
   "metadata": {},
   "outputs": [
    {
     "data": {
      "text/plain": [
       "[]"
      ]
     },
     "execution_count": 24,
     "metadata": {},
     "output_type": "execute_result"
    }
   ],
   "source": [
    "li"
   ]
  },
  {
   "cell_type": "markdown",
   "id": "d53ccbed",
   "metadata": {},
   "source": [
    "# Algorithm 3.2"
   ]
  },
  {
   "cell_type": "code",
   "execution_count": 25,
   "id": "4b2c604a",
   "metadata": {},
   "outputs": [],
   "source": [
    "na={'A':4,'B':3,'C':2,'D':1,'E':0}"
   ]
  },
  {
   "cell_type": "code",
   "execution_count": 26,
   "id": "9350639b",
   "metadata": {},
   "outputs": [
    {
     "data": {
      "text/plain": [
       "{'A': 4, 'B': 3, 'C': 2, 'D': 1, 'E': 0}"
      ]
     },
     "execution_count": 26,
     "metadata": {},
     "output_type": "execute_result"
    }
   ],
   "source": [
    "na"
   ]
  },
  {
   "cell_type": "code",
   "execution_count": 27,
   "id": "c3c60a3b",
   "metadata": {},
   "outputs": [
    {
     "data": {
      "text/plain": [
       "dict_keys(['A', 'B', 'C', 'D', 'E'])"
      ]
     },
     "execution_count": 27,
     "metadata": {},
     "output_type": "execute_result"
    }
   ],
   "source": [
    "na.keys()#Menampilkan Kata Kunci (key) dalam dictionary"
   ]
  },
  {
   "cell_type": "code",
   "execution_count": 28,
   "id": "490846aa",
   "metadata": {},
   "outputs": [
    {
     "data": {
      "text/plain": [
       "dict_values([4, 3, 2, 1, 0])"
      ]
     },
     "execution_count": 28,
     "metadata": {},
     "output_type": "execute_result"
    }
   ],
   "source": [
    "na.values()#Menampilkan Kata Value dalam Dictionary"
   ]
  },
  {
   "cell_type": "code",
   "execution_count": 29,
   "id": "16767bdf",
   "metadata": {},
   "outputs": [
    {
     "data": {
      "text/plain": [
       "4"
      ]
     },
     "execution_count": 29,
     "metadata": {},
     "output_type": "execute_result"
    }
   ],
   "source": [
    "na['A']"
   ]
  },
  {
   "cell_type": "code",
   "execution_count": 30,
   "id": "dcc219ec",
   "metadata": {},
   "outputs": [
    {
     "data": {
      "text/plain": [
       "3"
      ]
     },
     "execution_count": 30,
     "metadata": {},
     "output_type": "execute_result"
    }
   ],
   "source": [
    "na['B']"
   ]
  },
  {
   "cell_type": "code",
   "execution_count": 31,
   "id": "4e278e4e",
   "metadata": {},
   "outputs": [
    {
     "data": {
      "text/plain": [
       "2"
      ]
     },
     "execution_count": 31,
     "metadata": {},
     "output_type": "execute_result"
    }
   ],
   "source": [
    "na['C']"
   ]
  },
  {
   "cell_type": "code",
   "execution_count": 32,
   "id": "b6f350de",
   "metadata": {},
   "outputs": [],
   "source": [
    "kamus={'mouse':'tikus','cat':'kucing'}"
   ]
  },
  {
   "cell_type": "code",
   "execution_count": 33,
   "id": "887e602a",
   "metadata": {},
   "outputs": [
    {
     "data": {
      "text/plain": [
       "'kucing'"
      ]
     },
     "execution_count": 33,
     "metadata": {},
     "output_type": "execute_result"
    }
   ],
   "source": [
    "kamus['cat']"
   ]
  },
  {
   "cell_type": "code",
   "execution_count": 35,
   "id": "a474fb7f",
   "metadata": {},
   "outputs": [
    {
     "data": {
      "text/plain": [
       "dict_keys(['mouse', 'cat'])"
      ]
     },
     "execution_count": 35,
     "metadata": {},
     "output_type": "execute_result"
    }
   ],
   "source": [
    "kamus.keys()"
   ]
  },
  {
   "cell_type": "code",
   "execution_count": 36,
   "id": "5f083c80",
   "metadata": {},
   "outputs": [
    {
     "data": {
      "text/plain": [
       "dict_values(['tikus', 'kucing'])"
      ]
     },
     "execution_count": 36,
     "metadata": {},
     "output_type": "execute_result"
    }
   ],
   "source": [
    "kamus.values()"
   ]
  },
  {
   "cell_type": "markdown",
   "id": "30118ba7",
   "metadata": {},
   "source": [
    "# Algorithm 3.3"
   ]
  },
  {
   "cell_type": "code",
   "execution_count": 37,
   "id": "397b8906",
   "metadata": {},
   "outputs": [],
   "source": [
    "t=(10,20,30)"
   ]
  },
  {
   "cell_type": "code",
   "execution_count": 38,
   "id": "37442b47",
   "metadata": {},
   "outputs": [
    {
     "data": {
      "text/plain": [
       "10"
      ]
     },
     "execution_count": 38,
     "metadata": {},
     "output_type": "execute_result"
    }
   ],
   "source": [
    "t[0]"
   ]
  },
  {
   "cell_type": "code",
   "execution_count": 39,
   "id": "0915bcce",
   "metadata": {},
   "outputs": [
    {
     "data": {
      "text/plain": [
       "20"
      ]
     },
     "execution_count": 39,
     "metadata": {},
     "output_type": "execute_result"
    }
   ],
   "source": [
    "t[1]"
   ]
  },
  {
   "cell_type": "code",
   "execution_count": 40,
   "id": "c815247c",
   "metadata": {},
   "outputs": [
    {
     "data": {
      "text/plain": [
       "30"
      ]
     },
     "execution_count": 40,
     "metadata": {},
     "output_type": "execute_result"
    }
   ],
   "source": [
    "t[2]"
   ]
  },
  {
   "cell_type": "code",
   "execution_count": 41,
   "id": "9d76a67d",
   "metadata": {},
   "outputs": [
    {
     "data": {
      "text/plain": [
       "(10, 20, 30)"
      ]
     },
     "execution_count": 41,
     "metadata": {},
     "output_type": "execute_result"
    }
   ],
   "source": [
    "t[-3],t[-2],t[-1]"
   ]
  },
  {
   "cell_type": "code",
   "execution_count": 42,
   "id": "6fd614fd",
   "metadata": {},
   "outputs": [
    {
     "data": {
      "text/plain": [
       "3"
      ]
     },
     "execution_count": 42,
     "metadata": {},
     "output_type": "execute_result"
    }
   ],
   "source": [
    "len(t)#Menghitung banyaknya elemen didalam Tuple"
   ]
  },
  {
   "cell_type": "markdown",
   "id": "a20b3b3d",
   "metadata": {},
   "source": [
    "# Algorithm 3.4"
   ]
  },
  {
   "cell_type": "code",
   "execution_count": 43,
   "id": "c81a4509",
   "metadata": {},
   "outputs": [],
   "source": [
    "s=set([10,10,20,30,30,30])"
   ]
  },
  {
   "cell_type": "code",
   "execution_count": 44,
   "id": "a1013c26",
   "metadata": {},
   "outputs": [
    {
     "data": {
      "text/plain": [
       "{10, 20, 30}"
      ]
     },
     "execution_count": 44,
     "metadata": {},
     "output_type": "execute_result"
    }
   ],
   "source": [
    "s"
   ]
  },
  {
   "cell_type": "code",
   "execution_count": 46,
   "id": "3b0baa3c",
   "metadata": {},
   "outputs": [
    {
     "data": {
      "text/plain": [
       "3"
      ]
     },
     "execution_count": 46,
     "metadata": {},
     "output_type": "execute_result"
    }
   ],
   "source": [
    "len(s)"
   ]
  },
  {
   "cell_type": "code",
   "execution_count": 47,
   "id": "96a61b3e",
   "metadata": {},
   "outputs": [],
   "source": [
    "s.add(60)#Menambahkan anggota himpunan (set)"
   ]
  },
  {
   "cell_type": "code",
   "execution_count": 48,
   "id": "c7de2b53",
   "metadata": {},
   "outputs": [
    {
     "data": {
      "text/plain": [
       "{10, 20, 30, 60}"
      ]
     },
     "execution_count": 48,
     "metadata": {},
     "output_type": "execute_result"
    }
   ],
   "source": [
    "s"
   ]
  },
  {
   "cell_type": "code",
   "execution_count": 49,
   "id": "65f3987b",
   "metadata": {},
   "outputs": [
    {
     "data": {
      "text/plain": [
       "4"
      ]
     },
     "execution_count": 49,
     "metadata": {},
     "output_type": "execute_result"
    }
   ],
   "source": [
    "len(s)"
   ]
  },
  {
   "cell_type": "code",
   "execution_count": null,
   "id": "ba578948",
   "metadata": {},
   "outputs": [],
   "source": []
  }
 ],
 "metadata": {
  "kernelspec": {
   "display_name": "Python 3 (ipykernel)",
   "language": "python",
   "name": "python3"
  },
  "language_info": {
   "codemirror_mode": {
    "name": "ipython",
    "version": 3
   },
   "file_extension": ".py",
   "mimetype": "text/x-python",
   "name": "python",
   "nbconvert_exporter": "python",
   "pygments_lexer": "ipython3",
   "version": "3.10.2"
  }
 },
 "nbformat": 4,
 "nbformat_minor": 5
}
