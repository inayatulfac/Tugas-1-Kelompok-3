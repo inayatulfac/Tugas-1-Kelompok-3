{
 "cells": [
  {
   "cell_type": "markdown",
   "id": "9b3fa243-9c99-4806-8763-9b0656d87626",
   "metadata": {},
   "source": [
    "Algorithm 2.1"
   ]
  },
  {
   "cell_type": "code",
   "execution_count": 1,
   "id": "4dd03e0a-8507-4cbb-a7a6-27ea1745d0c8",
   "metadata": {},
   "outputs": [
    {
     "data": {
      "text/plain": [
       "int"
      ]
     },
     "execution_count": 1,
     "metadata": {},
     "output_type": "execute_result"
    }
   ],
   "source": [
    "a=12345\n",
    "type(a)"
   ]
  },
  {
   "cell_type": "code",
   "execution_count": 2,
   "id": "ee406f3f-000a-4a1b-bd41-cafa4f587957",
   "metadata": {},
   "outputs": [
    {
     "data": {
      "text/plain": [
       "str"
      ]
     },
     "execution_count": 2,
     "metadata": {},
     "output_type": "execute_result"
    }
   ],
   "source": [
    "b=str(a)\n",
    "b'12345'\n",
    "type(b)"
   ]
  },
  {
   "cell_type": "markdown",
   "id": "eae9a254-b4d4-4df9-be10-30df241f0171",
   "metadata": {},
   "source": [
    "Algorithm 2.2"
   ]
  },
  {
   "cell_type": "code",
   "execution_count": 3,
   "id": "d8573c88-d932-41de-bc02-064ebc1b2a61",
   "metadata": {},
   "outputs": [
    {
     "data": {
      "text/plain": [
       "str"
      ]
     },
     "execution_count": 3,
     "metadata": {},
     "output_type": "execute_result"
    }
   ],
   "source": [
    "a='12345'\n",
    "type(a)"
   ]
  },
  {
   "cell_type": "code",
   "execution_count": 9,
   "id": "ad5faafd-8d45-45d6-8b46-2f6a95c3b64c",
   "metadata": {},
   "outputs": [
    {
     "data": {
      "text/plain": [
       "int"
      ]
     },
     "execution_count": 9,
     "metadata": {},
     "output_type": "execute_result"
    }
   ],
   "source": [
    "b=int(a)\n",
    "b'12345'\n",
    "type(b)"
   ]
  },
  {
   "cell_type": "markdown",
   "id": "ede1ce64-bff8-4eb1-ac79-e05aec9d49b9",
   "metadata": {},
   "source": [
    "Algorithm 2.3"
   ]
  },
  {
   "cell_type": "code",
   "execution_count": 5,
   "id": "103165dd-346d-4800-98ef-d7bbf0fa9187",
   "metadata": {},
   "outputs": [
    {
     "data": {
      "text/plain": [
       "1"
      ]
     },
     "execution_count": 5,
     "metadata": {},
     "output_type": "execute_result"
    }
   ],
   "source": [
    "int(True)"
   ]
  },
  {
   "cell_type": "code",
   "execution_count": 6,
   "id": "170cb068-78c9-4781-b551-a5b38c582e61",
   "metadata": {},
   "outputs": [
    {
     "data": {
      "text/plain": [
       "0"
      ]
     },
     "execution_count": 6,
     "metadata": {},
     "output_type": "execute_result"
    }
   ],
   "source": [
    "int(False)"
   ]
  },
  {
   "cell_type": "code",
   "execution_count": 7,
   "id": "9edc1428-8aaf-4d4e-b960-f65dfc24a793",
   "metadata": {},
   "outputs": [
    {
     "data": {
      "text/plain": [
       "bool"
      ]
     },
     "execution_count": 7,
     "metadata": {},
     "output_type": "execute_result"
    }
   ],
   "source": [
    "a=True\n",
    "type(a)"
   ]
  },
  {
   "cell_type": "code",
   "execution_count": 8,
   "id": "445cc7bd-8efb-458e-a653-9716b099ca47",
   "metadata": {},
   "outputs": [
    {
     "data": {
      "text/plain": [
       "1"
      ]
     },
     "execution_count": 8,
     "metadata": {},
     "output_type": "execute_result"
    }
   ],
   "source": [
    "int(a)"
   ]
  },
  {
   "cell_type": "markdown",
   "id": "1123088a-47ae-4df2-ac2c-b2ff2fe433e6",
   "metadata": {},
   "source": [
    "Algorithm 2.4"
   ]
  },
  {
   "cell_type": "code",
   "execution_count": 10,
   "id": "1649b980-f6af-4eda-b1c1-04331170fe8e",
   "metadata": {},
   "outputs": [
    {
     "data": {
      "text/plain": [
       "123.456"
      ]
     },
     "execution_count": 10,
     "metadata": {},
     "output_type": "execute_result"
    }
   ],
   "source": [
    "a=123.456\n",
    "a"
   ]
  },
  {
   "cell_type": "code",
   "execution_count": 11,
   "id": "4a5f690d-b1cd-46e4-a9b8-f91348ae5465",
   "metadata": {},
   "outputs": [
    {
     "data": {
      "text/plain": [
       "float"
      ]
     },
     "execution_count": 11,
     "metadata": {},
     "output_type": "execute_result"
    }
   ],
   "source": [
    "type(a)"
   ]
  },
  {
   "cell_type": "code",
   "execution_count": 12,
   "id": "826d6d22-5b47-4b77-b221-c7b8a464c37b",
   "metadata": {},
   "outputs": [
    {
     "data": {
      "text/plain": [
       "246.912"
      ]
     },
     "execution_count": 12,
     "metadata": {},
     "output_type": "execute_result"
    }
   ],
   "source": [
    "a*2"
   ]
  },
  {
   "cell_type": "markdown",
   "id": "f811685a-df61-4284-ac9c-cc647baefb8b",
   "metadata": {},
   "source": [
    "Algorithm 2.5"
   ]
  },
  {
   "cell_type": "code",
   "execution_count": 13,
   "id": "2e2ed7b8-c10b-40b8-b50b-824fb13bb6b1",
   "metadata": {},
   "outputs": [
    {
     "data": {
      "text/plain": [
       "0.00089"
      ]
     },
     "execution_count": 13,
     "metadata": {},
     "output_type": "execute_result"
    }
   ],
   "source": [
    "a=8.9e-4\n",
    "a"
   ]
  },
  {
   "cell_type": "markdown",
   "id": "ad85a9c7-36a6-4ee8-8a4b-184766f76c9d",
   "metadata": {},
   "source": [
    "Algorithm 2.6"
   ]
  },
  {
   "cell_type": "code",
   "execution_count": 15,
   "id": "f24ff152-276f-495e-8c2a-78cae3e7558d",
   "metadata": {},
   "outputs": [
    {
     "data": {
      "text/plain": [
       "float"
      ]
     },
     "execution_count": 15,
     "metadata": {},
     "output_type": "execute_result"
    }
   ],
   "source": [
    "a=123.456\n",
    "type(a)"
   ]
  },
  {
   "cell_type": "code",
   "execution_count": 16,
   "id": "129ed5c9-eb87-4940-8f6f-57b2c714a5bb",
   "metadata": {},
   "outputs": [
    {
     "data": {
      "text/plain": [
       "'123.456'"
      ]
     },
     "execution_count": 16,
     "metadata": {},
     "output_type": "execute_result"
    }
   ],
   "source": [
    "b=str(a)\n",
    "b"
   ]
  },
  {
   "cell_type": "code",
   "execution_count": 17,
   "id": "0888a295-037b-41bc-89ca-7791439ccacd",
   "metadata": {},
   "outputs": [
    {
     "data": {
      "text/plain": [
       "str"
      ]
     },
     "execution_count": 17,
     "metadata": {},
     "output_type": "execute_result"
    }
   ],
   "source": [
    "type(b)"
   ]
  },
  {
   "cell_type": "code",
   "execution_count": 18,
   "id": "1eec66bd-1ac3-492c-a992-4872d0bca625",
   "metadata": {},
   "outputs": [
    {
     "data": {
      "text/plain": [
       "123.456"
      ]
     },
     "execution_count": 18,
     "metadata": {},
     "output_type": "execute_result"
    }
   ],
   "source": [
    "c=float(b)\n",
    "c"
   ]
  },
  {
   "cell_type": "code",
   "execution_count": 19,
   "id": "1ed5e5b0-f12c-46a1-8304-8e0fcff32200",
   "metadata": {},
   "outputs": [
    {
     "data": {
      "text/plain": [
       "float"
      ]
     },
     "execution_count": 19,
     "metadata": {},
     "output_type": "execute_result"
    }
   ],
   "source": [
    "type(c)"
   ]
  },
  {
   "cell_type": "markdown",
   "id": "6b0c0118-4180-4221-9ae6-6c8b5790fcae",
   "metadata": {},
   "source": [
    "Algorithm 2.7"
   ]
  },
  {
   "cell_type": "code",
   "execution_count": 20,
   "id": "04db5f68-d10c-41ef-9486-e0af51042f9d",
   "metadata": {},
   "outputs": [
    {
     "data": {
      "text/plain": [
       "(-9+17j)"
      ]
     },
     "execution_count": 20,
     "metadata": {},
     "output_type": "execute_result"
    }
   ],
   "source": [
    "a=-9+17j\n",
    "a"
   ]
  },
  {
   "cell_type": "code",
   "execution_count": 21,
   "id": "062ad425-b5f6-426e-9273-0e9b78ac77fd",
   "metadata": {},
   "outputs": [
    {
     "data": {
      "text/plain": [
       "complex"
      ]
     },
     "execution_count": 21,
     "metadata": {},
     "output_type": "execute_result"
    }
   ],
   "source": [
    "type(a)"
   ]
  },
  {
   "cell_type": "code",
   "execution_count": 22,
   "id": "aee5fc63-6a42-4a64-a5d9-2e4fd73fb5c2",
   "metadata": {},
   "outputs": [
    {
     "data": {
      "text/plain": [
       "-9.0"
      ]
     },
     "execution_count": 22,
     "metadata": {},
     "output_type": "execute_result"
    }
   ],
   "source": [
    "a.real"
   ]
  },
  {
   "cell_type": "code",
   "execution_count": 23,
   "id": "75466cac-e510-4a62-bca5-dac98d88eefa",
   "metadata": {},
   "outputs": [
    {
     "data": {
      "text/plain": [
       "17.0"
      ]
     },
     "execution_count": 23,
     "metadata": {},
     "output_type": "execute_result"
    }
   ],
   "source": [
    "a.imag"
   ]
  },
  {
   "cell_type": "markdown",
   "id": "4aff4f27-4280-4f51-bad7-dfc8442ea1ad",
   "metadata": {},
   "source": [
    "Algorithm 2.8"
   ]
  },
  {
   "cell_type": "code",
   "execution_count": 24,
   "id": "4cd2b2f0-a0f9-4b25-b5ca-d83853c9d464",
   "metadata": {},
   "outputs": [
    {
     "data": {
      "text/plain": [
       "'PyQt'"
      ]
     },
     "execution_count": 24,
     "metadata": {},
     "output_type": "execute_result"
    }
   ],
   "source": [
    "s1='PyQt'\n",
    "s1"
   ]
  },
  {
   "cell_type": "code",
   "execution_count": 25,
   "id": "a4c0d5ac-9446-4a0e-8fec-b755a62fa3af",
   "metadata": {},
   "outputs": [
    {
     "data": {
      "text/plain": [
       "'Python'"
      ]
     },
     "execution_count": 25,
     "metadata": {},
     "output_type": "execute_result"
    }
   ],
   "source": [
    "s2='Python'\n",
    "s2"
   ]
  },
  {
   "cell_type": "code",
   "execution_count": 26,
   "id": "f50c7f52-bdf8-4d33-925b-ef04cdf2a0e6",
   "metadata": {},
   "outputs": [
    {
     "data": {
      "text/plain": [
       "' Pemrograman GUI \\\\ dengan Python dan PyQt '"
      ]
     },
     "execution_count": 26,
     "metadata": {},
     "output_type": "execute_result"
    }
   ],
   "source": [
    "s3=''' Pemrograman GUI dengan Python dan PyQt '''\n",
    "s3='\\nPemrograman GUI\\ndengan Python dan PyQt\\n'\n",
    "s4=\"\"\" Pemrograman GUI \\ dengan Python dan PyQt \"\"\"\n",
    "s4"
   ]
  },
  {
   "cell_type": "code",
   "execution_count": 27,
   "id": "4aeb7665-d321-4724-a495-11c48dfe829a",
   "metadata": {},
   "outputs": [
    {
     "data": {
      "text/plain": [
       "'python'"
      ]
     },
     "execution_count": 27,
     "metadata": {},
     "output_type": "execute_result"
    }
   ],
   "source": [
    "b='python'\n",
    "b"
   ]
  },
  {
   "cell_type": "code",
   "execution_count": 28,
   "id": "08df25e8-911e-4333-bc77-e68c40546fc9",
   "metadata": {},
   "outputs": [
    {
     "data": {
      "text/plain": [
       "'Python'"
      ]
     },
     "execution_count": 28,
     "metadata": {},
     "output_type": "execute_result"
    }
   ],
   "source": [
    "b=b.capitalize()\n",
    "b"
   ]
  },
  {
   "cell_type": "code",
   "execution_count": 29,
   "id": "59604e94-f86a-4f61-9218-edb514c0f3c0",
   "metadata": {},
   "outputs": [
    {
     "data": {
      "text/plain": [
       "'PYTHON'"
      ]
     },
     "execution_count": 29,
     "metadata": {},
     "output_type": "execute_result"
    }
   ],
   "source": [
    "b=b.upper()\n",
    "b"
   ]
  },
  {
   "cell_type": "code",
   "execution_count": 31,
   "id": "fa07b7de-f278-4111-b3ee-0468f165357d",
   "metadata": {},
   "outputs": [
    {
     "data": {
      "text/plain": [
       "'python'"
      ]
     },
     "execution_count": 31,
     "metadata": {},
     "output_type": "execute_result"
    }
   ],
   "source": [
    "b=b.lower()\n",
    "b"
   ]
  },
  {
   "cell_type": "code",
   "execution_count": 32,
   "id": "a46e3041-2f08-40b5-a2d8-321e61595be9",
   "metadata": {},
   "outputs": [
    {
     "data": {
      "text/plain": [
       "False"
      ]
     },
     "execution_count": 32,
     "metadata": {},
     "output_type": "execute_result"
    }
   ],
   "source": [
    "b.isupper()"
   ]
  },
  {
   "cell_type": "code",
   "execution_count": 34,
   "id": "fb1e47f2-8e13-4d0f-a61d-a915728eedb5",
   "metadata": {},
   "outputs": [
    {
     "data": {
      "text/plain": [
       "True"
      ]
     },
     "execution_count": 34,
     "metadata": {},
     "output_type": "execute_result"
    }
   ],
   "source": [
    "b.islower()"
   ]
  },
  {
   "cell_type": "code",
   "execution_count": 37,
   "id": "bc2d09ae-3230-4c04-9b54-29f5730041a3",
   "metadata": {},
   "outputs": [
    {
     "data": {
      "text/plain": [
       "'saya belajar python'"
      ]
     },
     "execution_count": 37,
     "metadata": {},
     "output_type": "execute_result"
    }
   ],
   "source": [
    "s=' '.join(['saya','belajar','python'])\n",
    "s"
   ]
  },
  {
   "cell_type": "code",
   "execution_count": 38,
   "id": "95c05c70-2705-486f-abde-a3722869633f",
   "metadata": {},
   "outputs": [
    {
     "data": {
      "text/plain": [
       "True"
      ]
     },
     "execution_count": 38,
     "metadata": {},
     "output_type": "execute_result"
    }
   ],
   "source": [
    "nim='200601110084'\n",
    "nim.isnumeric()"
   ]
  },
  {
   "cell_type": "code",
   "execution_count": 39,
   "id": "72d12bf7-ae5e-4ebb-8fab-a4f1f2888264",
   "metadata": {},
   "outputs": [
    {
     "data": {
      "text/plain": [
       "False"
      ]
     },
     "execution_count": 39,
     "metadata": {},
     "output_type": "execute_result"
    }
   ],
   "source": [
    "nim='2o0601110084'\n",
    "nim.isnumeric()"
   ]
  }
 ],
 "metadata": {
  "kernelspec": {
   "display_name": "Python 3 (ipykernel)",
   "language": "python",
   "name": "python3"
  },
  "language_info": {
   "codemirror_mode": {
    "name": "ipython",
    "version": 3
   },
   "file_extension": ".py",
   "mimetype": "text/x-python",
   "name": "python",
   "nbconvert_exporter": "python",
   "pygments_lexer": "ipython3",
   "version": "3.10.2"
  }
 },
 "nbformat": 4,
 "nbformat_minor": 5
}
