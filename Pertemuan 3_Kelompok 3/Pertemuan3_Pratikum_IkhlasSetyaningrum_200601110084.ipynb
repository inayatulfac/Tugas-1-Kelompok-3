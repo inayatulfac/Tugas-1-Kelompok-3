{
 "cells": [
  {
   "cell_type": "markdown",
   "id": "4f250811-883b-4841-bdcc-e32c06d57f59",
   "metadata": {},
   "source": [
    "Algorithm 3.1\n"
   ]
  },
  {
   "cell_type": "code",
   "execution_count": 30,
   "id": "a7273f04-ecf9-4266-9878-51344b4fbac8",
   "metadata": {},
   "outputs": [
    {
     "data": {
      "text/plain": [
       "[10, 8, 12, 6, 15]"
      ]
     },
     "execution_count": 30,
     "metadata": {},
     "output_type": "execute_result"
    }
   ],
   "source": [
    "list1=[100,200,300,400]\n",
    "list2=[1,'Pemrograman komputer',12000.00]\n",
    "list=[10,8,12,6,15]\n",
    "list"
   ]
  },
  {
   "cell_type": "code",
   "execution_count": 2,
   "id": "ae758ccc-8285-4d7f-a4bd-d9a8fa5404aa",
   "metadata": {},
   "outputs": [
    {
     "data": {
      "text/plain": [
       "5"
      ]
     },
     "execution_count": 2,
     "metadata": {},
     "output_type": "execute_result"
    }
   ],
   "source": [
    "len(list)#Menghitung banyaknya elemen di dalam list"
   ]
  },
  {
   "cell_type": "code",
   "execution_count": 3,
   "id": "2fa85842-9c1f-44fa-bd25-b92f0d1743d5",
   "metadata": {},
   "outputs": [
    {
     "data": {
      "text/plain": [
       "[10, 8, 12, 6, 15]"
      ]
     },
     "execution_count": 3,
     "metadata": {},
     "output_type": "execute_result"
    }
   ],
   "source": [
    "li=[10,8,12,6,15]\n",
    "li"
   ]
  },
  {
   "cell_type": "code",
   "execution_count": 4,
   "id": "4267658c-9b36-403c-8c66-f0260f47608f",
   "metadata": {},
   "outputs": [
    {
     "data": {
      "text/plain": [
       "(10, 8, 12, 6, 15)"
      ]
     },
     "execution_count": 4,
     "metadata": {},
     "output_type": "execute_result"
    }
   ],
   "source": [
    "li[0],li[1],li[2],li[3],li[4]"
   ]
  },
  {
   "cell_type": "code",
   "execution_count": 8,
   "id": "3d485049-2a1c-4f4c-bed6-8fef02e3e7b9",
   "metadata": {},
   "outputs": [
    {
     "data": {
      "text/plain": [
       "[10, 8, 12, 6, 15, 20, 25, 100, 200, 300]"
      ]
     },
     "execution_count": 8,
     "metadata": {},
     "output_type": "execute_result"
    }
   ],
   "source": [
    "li.append(20)#Menambahkan elemen dalam list\n",
    "li.append(25)\n",
    "li=[10,8,12,6,15,20,25]\n",
    "li.extend([100,200,300])#Menambahkan list dalam sebuah list\n",
    "li"
   ]
  },
  {
   "cell_type": "code",
   "execution_count": 9,
   "id": "e4c0a9d0-9814-4ce1-9d97-40e524f03087",
   "metadata": {},
   "outputs": [
    {
     "data": {
      "text/plain": [
       "[99, 77, 12, 6, 15, 20, 25, 100, 200, 300]"
      ]
     },
     "execution_count": 9,
     "metadata": {},
     "output_type": "execute_result"
    }
   ],
   "source": [
    "li[0]=99\n",
    "li[1]=77\n",
    "li"
   ]
  },
  {
   "cell_type": "code",
   "execution_count": 10,
   "id": "3dec7d24-370b-4fd9-83ba-9b8c5776ce27",
   "metadata": {},
   "outputs": [
    {
     "data": {
      "text/plain": [
       "[77, 12, 6, 20, 25, 100, 200]"
      ]
     },
     "execution_count": 10,
     "metadata": {},
     "output_type": "execute_result"
    }
   ],
   "source": [
    "li.remove(99)#Menghapus elemen di dalam list\n",
    "li.remove(300)\n",
    "li.remove(15)\n",
    "li"
   ]
  },
  {
   "cell_type": "code",
   "execution_count": 11,
   "id": "6cffddba-8966-4a80-a30e-33f30b0eaf2e",
   "metadata": {},
   "outputs": [
    {
     "data": {
      "text/plain": [
       "[]"
      ]
     },
     "execution_count": 11,
     "metadata": {},
     "output_type": "execute_result"
    }
   ],
   "source": [
    "li.clear() #Menghapus semua elemen di dalam list\n",
    "li"
   ]
  },
  {
   "cell_type": "markdown",
   "id": "ff5a5f33-fe8f-46ca-bece-3d2ec72990f3",
   "metadata": {},
   "source": [
    "Algorithm 3.2"
   ]
  },
  {
   "cell_type": "code",
   "execution_count": 12,
   "id": "16b932e9-f2ea-4e53-95f9-166fc31f5f7d",
   "metadata": {},
   "outputs": [
    {
     "data": {
      "text/plain": [
       "{'A': 4, 'B': 3, 'C': 2, 'D': 1, 'E': 0}"
      ]
     },
     "execution_count": 12,
     "metadata": {},
     "output_type": "execute_result"
    }
   ],
   "source": [
    "na={'A':4,'B':3,'C':2,'D':1,'E':0}\n",
    "na"
   ]
  },
  {
   "cell_type": "code",
   "execution_count": 13,
   "id": "948658cf-4593-4ca7-9bf3-1e96ad10ef1f",
   "metadata": {},
   "outputs": [
    {
     "data": {
      "text/plain": [
       "dict_keys(['A', 'B', 'C', 'D', 'E'])"
      ]
     },
     "execution_count": 13,
     "metadata": {},
     "output_type": "execute_result"
    }
   ],
   "source": [
    "na.keys() #Menampimpilkan kata kunci (key) dalam Dictionary"
   ]
  },
  {
   "cell_type": "code",
   "execution_count": 14,
   "id": "c33f2e9d-f6bf-47f0-8b32-c231502f3050",
   "metadata": {},
   "outputs": [
    {
     "data": {
      "text/plain": [
       "dict_values([4, 3, 2, 1, 0])"
      ]
     },
     "execution_count": 14,
     "metadata": {},
     "output_type": "execute_result"
    }
   ],
   "source": [
    "na.values() #Menampilkan kata Value dalam Dictionary"
   ]
  },
  {
   "cell_type": "code",
   "execution_count": 15,
   "id": "2093832a-a3db-429d-b735-25e5271bd566",
   "metadata": {},
   "outputs": [
    {
     "data": {
      "text/plain": [
       "4"
      ]
     },
     "execution_count": 15,
     "metadata": {},
     "output_type": "execute_result"
    }
   ],
   "source": [
    "na['A']"
   ]
  },
  {
   "cell_type": "code",
   "execution_count": 16,
   "id": "eae5c7bc-71bf-474b-b99c-fa8cd643d2bb",
   "metadata": {},
   "outputs": [
    {
     "data": {
      "text/plain": [
       "3"
      ]
     },
     "execution_count": 16,
     "metadata": {},
     "output_type": "execute_result"
    }
   ],
   "source": [
    "na['B']"
   ]
  },
  {
   "cell_type": "code",
   "execution_count": 18,
   "id": "fb5afcaf-ae74-4c81-bae2-29b467fca349",
   "metadata": {},
   "outputs": [
    {
     "data": {
      "text/plain": [
       "2"
      ]
     },
     "execution_count": 18,
     "metadata": {},
     "output_type": "execute_result"
    }
   ],
   "source": [
    "na['C']"
   ]
  },
  {
   "cell_type": "code",
   "execution_count": 26,
   "id": "aeaba40b-2482-4307-8afd-40607aaea35f",
   "metadata": {},
   "outputs": [
    {
     "data": {
      "text/plain": [
       "'kucing'"
      ]
     },
     "execution_count": 26,
     "metadata": {},
     "output_type": "execute_result"
    }
   ],
   "source": [
    "Kamus={'mouse':'tikus','cat':'kucing'}\n",
    "Kamus['cat']"
   ]
  },
  {
   "cell_type": "code",
   "execution_count": 27,
   "id": "ce2a24db-e334-4fbb-afa0-bc052ccc24c9",
   "metadata": {},
   "outputs": [
    {
     "data": {
      "text/plain": [
       "dict_keys(['mouse', 'cat'])"
      ]
     },
     "execution_count": 27,
     "metadata": {},
     "output_type": "execute_result"
    }
   ],
   "source": [
    "Kamus.keys()"
   ]
  },
  {
   "cell_type": "code",
   "execution_count": 29,
   "id": "b7c00759-af6a-43de-aed2-9dce700019c9",
   "metadata": {},
   "outputs": [
    {
     "data": {
      "text/plain": [
       "dict_values(['tikus', 'kucing'])"
      ]
     },
     "execution_count": 29,
     "metadata": {},
     "output_type": "execute_result"
    }
   ],
   "source": [
    "Kamus.values()"
   ]
  },
  {
   "cell_type": "markdown",
   "id": "49e5d30d-9f60-4ae9-935b-2bbd06d9d2bd",
   "metadata": {},
   "source": [
    "Algorithm 3.3"
   ]
  },
  {
   "cell_type": "code",
   "execution_count": 31,
   "id": "9f3e34d9-0350-428e-9cdb-caf76f9666b2",
   "metadata": {},
   "outputs": [
    {
     "data": {
      "text/plain": [
       "10"
      ]
     },
     "execution_count": 31,
     "metadata": {},
     "output_type": "execute_result"
    }
   ],
   "source": [
    "t=(10,20,30)\n",
    "t[0]"
   ]
  },
  {
   "cell_type": "code",
   "execution_count": 32,
   "id": "6b98b01e-bd4b-4d91-b85a-1394e1be98c2",
   "metadata": {},
   "outputs": [
    {
     "data": {
      "text/plain": [
       "20"
      ]
     },
     "execution_count": 32,
     "metadata": {},
     "output_type": "execute_result"
    }
   ],
   "source": [
    "t[1]"
   ]
  },
  {
   "cell_type": "code",
   "execution_count": 33,
   "id": "79e5cbe0-7fbb-4046-8405-a2756520b7be",
   "metadata": {},
   "outputs": [
    {
     "data": {
      "text/plain": [
       "30"
      ]
     },
     "execution_count": 33,
     "metadata": {},
     "output_type": "execute_result"
    }
   ],
   "source": [
    "t[2]"
   ]
  },
  {
   "cell_type": "code",
   "execution_count": 34,
   "id": "a2962154-1e30-49f3-968c-9a387478fda2",
   "metadata": {},
   "outputs": [
    {
     "data": {
      "text/plain": [
       "(10, 20, 30)"
      ]
     },
     "execution_count": 34,
     "metadata": {},
     "output_type": "execute_result"
    }
   ],
   "source": [
    "t[-3],t[-2],t[-1]"
   ]
  },
  {
   "cell_type": "code",
   "execution_count": 35,
   "id": "58b4ac24-b84b-469b-b649-77ece53d92c2",
   "metadata": {},
   "outputs": [
    {
     "data": {
      "text/plain": [
       "3"
      ]
     },
     "execution_count": 35,
     "metadata": {},
     "output_type": "execute_result"
    }
   ],
   "source": [
    "len(t) # Menghitung banyaknya elemen di dalam tuple"
   ]
  },
  {
   "cell_type": "markdown",
   "id": "eef55f5b-bca1-460e-966a-668b18140e2e",
   "metadata": {},
   "source": [
    "Algorithm 3.4"
   ]
  },
  {
   "cell_type": "code",
   "execution_count": 36,
   "id": "d01ce38a-9a1b-40e2-aff2-e32e9b47ca6e",
   "metadata": {},
   "outputs": [
    {
     "data": {
      "text/plain": [
       "{10, 20, 30}"
      ]
     },
     "execution_count": 36,
     "metadata": {},
     "output_type": "execute_result"
    }
   ],
   "source": [
    "s=set([10,10,20,30,30,30])\n",
    "s"
   ]
  },
  {
   "cell_type": "code",
   "execution_count": 37,
   "id": "b5554562-fd1b-49c1-a62e-4abd61d66ac4",
   "metadata": {},
   "outputs": [
    {
     "data": {
      "text/plain": [
       "3"
      ]
     },
     "execution_count": 37,
     "metadata": {},
     "output_type": "execute_result"
    }
   ],
   "source": [
    "len(s)"
   ]
  },
  {
   "cell_type": "code",
   "execution_count": 38,
   "id": "ca2f42e9-f396-4e05-9f7e-7527695f18bc",
   "metadata": {},
   "outputs": [
    {
     "data": {
      "text/plain": [
       "{10, 20, 30, 60}"
      ]
     },
     "execution_count": 38,
     "metadata": {},
     "output_type": "execute_result"
    }
   ],
   "source": [
    "s.add(60) # Menambahkan anggota himpunan (set)\n",
    "s"
   ]
  },
  {
   "cell_type": "code",
   "execution_count": 39,
   "id": "70c358ee-75db-4ccc-9a09-bb9b89922677",
   "metadata": {},
   "outputs": [
    {
     "data": {
      "text/plain": [
       "4"
      ]
     },
     "execution_count": 39,
     "metadata": {},
     "output_type": "execute_result"
    }
   ],
   "source": [
    "len(s)"
   ]
  },
  {
   "cell_type": "code",
   "execution_count": null,
   "id": "30b17c12-8e1e-48f4-840f-445bb4425de3",
   "metadata": {},
   "outputs": [],
   "source": []
  }
 ],
 "metadata": {
  "kernelspec": {
   "display_name": "Python 3 (ipykernel)",
   "language": "python",
   "name": "python3"
  },
  "language_info": {
   "codemirror_mode": {
    "name": "ipython",
    "version": 3
   },
   "file_extension": ".py",
   "mimetype": "text/x-python",
   "name": "python",
   "nbconvert_exporter": "python",
   "pygments_lexer": "ipython3",
   "version": "3.10.2"
  }
 },
 "nbformat": 4,
 "nbformat_minor": 5
}
