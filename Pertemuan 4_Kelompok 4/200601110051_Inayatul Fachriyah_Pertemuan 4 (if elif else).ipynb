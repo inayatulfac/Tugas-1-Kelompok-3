{
 "cells": [
  {
   "cell_type": "code",
   "execution_count": 5,
   "metadata": {},
   "outputs": [
    {
     "name": "stdout",
     "output_type": "stream",
     "text": [
      " Masukkan nilai anda: 90\n",
      "Anda Lulus Ujian! SELAMAT\n"
     ]
    }
   ],
   "source": [
    "nilai= input (\" Masukkan nilai anda: \")\n",
    "if int(nilai) >= 70:\n",
    "    print(\"Anda Lulus Ujian! SELAMAT\")"
   ]
  },
  {
   "cell_type": "code",
   "execution_count": 6,
   "metadata": {},
   "outputs": [
    {
     "name": "stdout",
     "output_type": "stream",
     "text": [
      "Anda Lulus Ujian! SELAMAT\n"
     ]
    }
   ],
   "source": [
    "if int(nilai) < 0 or int(nilai) > 100:\n",
    "    print(\"Nilai Anda TIDAK Valid\")\n",
    "elif int(nilai) >= 70:\n",
    "    print(\"Anda Lulus Ujian! SELAMAT\")\n",
    "else:\n",
    "    print(\"Anda BELUM LULUS Ujian\")"
   ]
  },
  {
   "cell_type": "code",
   "execution_count": 7,
   "metadata": {},
   "outputs": [
    {
     "name": "stdout",
     "output_type": "stream",
     "text": [
      " Masukkan nilai anda: 0\n",
      "Anda BELUM LULUS Ujian\n"
     ]
    }
   ],
   "source": [
    "nilai= input (\" Masukkan nilai anda: \")\n",
    "if int(nilai) < 0 or int(nilai) > 100:\n",
    "    print(\"Nilai Anda TIDAK Valid\")\n",
    "elif int(nilai) >= 70:\n",
    "    print(\"Anda Lulus Ujian! SELAMAT\")\n",
    "else:\n",
    "    print(\"Anda BELUM LULUS Ujian\")"
   ]
  },
  {
   "cell_type": "code",
   "execution_count": 8,
   "metadata": {},
   "outputs": [
    {
     "name": "stdout",
     "output_type": "stream",
     "text": [
      " Masukkan nilai anda: 100\n",
      "Anda Lulus Ujian! SELAMAT\n"
     ]
    }
   ],
   "source": [
    "nilai= input (\" Masukkan nilai anda: \")\n",
    "if int(nilai) < 0 or int(nilai) > 100:\n",
    "    print(\"Nilai Anda TIDAK Valid\")\n",
    "elif int(nilai) >= 70:\n",
    "    print(\"Anda Lulus Ujian! SELAMAT\")\n",
    "else:\n",
    "    print(\"Anda BELUM LULUS Ujian\")"
   ]
  },
  {
   "cell_type": "code",
   "execution_count": 9,
   "metadata": {},
   "outputs": [
    {
     "name": "stdout",
     "output_type": "stream",
     "text": [
      " Masukkan nilai anda: -1\n",
      "Nilai Anda TIODAK Valid\n"
     ]
    }
   ],
   "source": [
    "nilai= input (\" Masukkan nilai anda: \")\n",
    "if int(nilai) < 0 or int(nilai) > 100:\n",
    "    print(\"Nilai Anda TIDAK Valid\")\n",
    "elif int(nilai) >= 70:\n",
    "    print(\"Anda Lulus Ujian! SELAMAT\")\n",
    "else:\n",
    "    print(\"Anda BELUM LULUS Ujian\")"
   ]
  },
  {
   "cell_type": "code",
   "execution_count": 10,
   "metadata": {},
   "outputs": [
    {
     "name": "stdout",
     "output_type": "stream",
     "text": [
      " Masukkan nilai anda: 80\n",
      "Anda Lulus Ujian! SELAMAT\n"
     ]
    }
   ],
   "source": [
    "nilai= input (\" Masukkan nilai anda: \")\n",
    "if int(nilai) < 0 or int(nilai) > 100:\n",
    "    print(\"Nilai Anda TIDAK Valid\")\n",
    "elif int(nilai) >= 70:\n",
    "    print(\"Anda Lulus Ujian! SELAMAT\")\n",
    "else:\n",
    "    print(\"Anda BELUM LULUS Ujian\")"
   ]
  },
  {
   "cell_type": "code",
   "execution_count": 11,
   "metadata": {},
   "outputs": [
    {
     "name": "stdout",
     "output_type": "stream",
     "text": [
      " Masukkan nilai anda: -90\n",
      "Nilai Anda TIDAK Valid\n"
     ]
    }
   ],
   "source": [
    "nilai= input (\" Masukkan nilai anda: \")\n",
    "if int(nilai) < 0 or int(nilai) > 100:\n",
    "    print(\"Nilai Anda TIDAK Valid\")\n",
    "elif int(nilai) >= 70:\n",
    "    print(\"Anda Lulus Ujian! SELAMAT\")\n",
    "else:\n",
    "    print(\"Anda BELUM LULUS Ujian\")"
   ]
  },
  {
   "cell_type": "code",
   "execution_count": 12,
   "metadata": {},
   "outputs": [
    {
     "name": "stdout",
     "output_type": "stream",
     "text": [
      "1\n",
      "2\n",
      "3\n",
      "4\n",
      "5\n",
      "6\n",
      "7\n",
      "8\n",
      "9\n",
      "10\n"
     ]
    }
   ],
   "source": [
    "count = 1\n",
    "while count < 11:\n",
    "    print(count)\n",
    "    count += 1 "
   ]
  },
  {
   "cell_type": "code",
   "execution_count": 13,
   "metadata": {},
   "outputs": [
    {
     "name": "stdout",
     "output_type": "stream",
     "text": [
      "Masukkan Nilai n: 8\n",
      "40320\n"
     ]
    }
   ],
   "source": [
    "n = int(input(\"Masukkan Nilai n: \"))\n",
    "faktorial = 1\n",
    "i =1\n",
    "while i<=n:\n",
    "    faktorial *= i\n",
    "    i += 1\n",
    "print(faktorial)"
   ]
  },
  {
   "cell_type": "code",
   "execution_count": 14,
   "metadata": {},
   "outputs": [
    {
     "name": "stdout",
     "output_type": "stream",
     "text": [
      "Masukkan Nilai n: 5\n",
      "120\n"
     ]
    }
   ],
   "source": [
    "n = int(input(\"Masukkan Nilai n: \"))\n",
    "faktorial = 1\n",
    "i =1\n",
    "while i<=n:\n",
    "    faktorial *= i\n",
    "    i += 1\n",
    "print(faktorial)"
   ]
  },
  {
   "cell_type": "code",
   "execution_count": 16,
   "metadata": {},
   "outputs": [
    {
     "name": "stdout",
     "output_type": "stream",
     "text": [
      "Angka = 0\n",
      "Masukkan Angka: 40\n",
      "Angka = 40\n",
      "Masukkan Angka: 10\n",
      "Angka = 50\n",
      "Masukkan Angka: 1\n",
      "Angka Berhento pada Jumlah: 51\n"
     ]
    }
   ],
   "source": [
    "b = 0\n",
    "while True:\n",
    "    print(\"Angka = \"+str(b))\n",
    "    angka = int(input(\"Masukkan Angka: \"))\n",
    "    b += angka\n",
    "    if b>50:\n",
    "        break\n",
    "print(\"Angka Berhento pada Jumlah: \"+str(b))\n"
   ]
  },
  {
   "cell_type": "code",
   "execution_count": 17,
   "metadata": {},
   "outputs": [
    {
     "name": "stdout",
     "output_type": "stream",
     "text": [
      "2\n",
      "3\n",
      "5\n",
      "7\n",
      "m\n",
      "a\n",
      "t\n",
      "e\n",
      "m\n",
      "a\n",
      "t\n",
      "i\n",
      "k\n",
      "a\n"
     ]
    }
   ],
   "source": [
    "primes = [2,3,5,7]\n",
    "for prime in primes:\n",
    "    print(prime)\n",
    "    \n",
    "s = 'matematika'\n",
    "for i in s :\n",
    "    print(i)\n",
    "    "
   ]
  },
  {
   "cell_type": "code",
   "execution_count": 19,
   "metadata": {},
   "outputs": [
    {
     "name": "stdout",
     "output_type": "stream",
     "text": [
      "1\n",
      "3\n",
      "5\n",
      "7\n",
      "9\n"
     ]
    }
   ],
   "source": [
    "for i in range(1,10,2):\n",
    "    print(i)"
   ]
  },
  {
   "cell_type": "code",
   "execution_count": 21,
   "metadata": {},
   "outputs": [
    {
     "name": "stdout",
     "output_type": "stream",
     "text": [
      "Masukkan nilai n: 5\n",
      "120\n"
     ]
    }
   ],
   "source": [
    "n = int(input(\"Masukkan nilai n: \"))\n",
    "faktorial = 1 \n",
    "for i in range(1,n+1):\n",
    "    faktorial *= i\n",
    "print(faktorial)"
   ]
  },
  {
   "cell_type": "code",
   "execution_count": 25,
   "metadata": {},
   "outputs": [
    {
     "name": "stdout",
     "output_type": "stream",
     "text": [
      "0\n",
      "1\n",
      "2\n",
      "3\n",
      "4\n",
      "5\n",
      "6\n",
      "7\n",
      "8\n",
      "9\n"
     ]
    }
   ],
   "source": [
    "for i in range(100):\n",
    "    if i==10:\n",
    "        break\n",
    "    print(i)"
   ]
  },
  {
   "cell_type": "code",
   "execution_count": 27,
   "metadata": {},
   "outputs": [
    {
     "name": "stdout",
     "output_type": "stream",
     "text": [
      "Masukkan nilai n: 5\n",
      "20\n"
     ]
    }
   ],
   "source": [
    "n = int(input(\"Masukkan nilai n: \"))\n",
    "sum_even = 0\n",
    "for i in range(0,2*n,2):\n",
    "    sum_even += i\n",
    "print(sum_even)"
   ]
  }
 ],
 "metadata": {
  "kernelspec": {
   "display_name": "Python 3 (ipykernel)",
   "language": "python",
   "name": "python3"
  },
  "language_info": {
   "codemirror_mode": {
    "name": "ipython",
    "version": 3
   },
   "file_extension": ".py",
   "mimetype": "text/x-python",
   "name": "python",
   "nbconvert_exporter": "python",
   "pygments_lexer": "ipython3",
   "version": "3.10.2"
  }
 },
 "nbformat": 4,
 "nbformat_minor": 4
}
